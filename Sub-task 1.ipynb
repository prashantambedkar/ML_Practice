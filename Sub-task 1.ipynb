{
 "cells": [
  {
   "cell_type": "markdown",
   "id": "24af436c",
   "metadata": {},
   "source": [
    "## Point 1"
   ]
  },
  {
   "cell_type": "code",
   "execution_count": 1,
   "id": "e9a160bf",
   "metadata": {},
   "outputs": [],
   "source": [
    "# import necessary packages, and libraries\n",
    "import numpy as np\n",
    "import pandas as pd\n",
    "import matplotlib.pyplot as plt\n",
    "import seaborn as sns\n",
    "from sklearn.linear_model import LinearRegression\n",
    "from sklearn.model_selection import train_test_split, cross_val_score, cross_val_predict\n",
    "from sklearn.metrics import mean_squared_error, r2_score"
   ]
  },
  {
   "cell_type": "code",
   "execution_count": 34,
   "id": "90a16f1f",
   "metadata": {},
   "outputs": [
    {
     "data": {
      "text/html": [
       "<div>\n",
       "<style scoped>\n",
       "    .dataframe tbody tr th:only-of-type {\n",
       "        vertical-align: middle;\n",
       "    }\n",
       "\n",
       "    .dataframe tbody tr th {\n",
       "        vertical-align: top;\n",
       "    }\n",
       "\n",
       "    .dataframe thead th {\n",
       "        text-align: right;\n",
       "    }\n",
       "</style>\n",
       "<table border=\"1\" class=\"dataframe\">\n",
       "  <thead>\n",
       "    <tr style=\"text-align: right;\">\n",
       "      <th></th>\n",
       "      <th>x1</th>\n",
       "      <th>x2</th>\n",
       "      <th>x3</th>\n",
       "      <th>x4</th>\n",
       "      <th>x5</th>\n",
       "      <th>y</th>\n",
       "    </tr>\n",
       "  </thead>\n",
       "  <tbody>\n",
       "    <tr>\n",
       "      <th>0</th>\n",
       "      <td>-4.221195</td>\n",
       "      <td>-2.312597</td>\n",
       "      <td>20.479732</td>\n",
       "      <td>-10.278535</td>\n",
       "      <td>5.224368</td>\n",
       "      <td>-183.078704</td>\n",
       "    </tr>\n",
       "    <tr>\n",
       "      <th>1</th>\n",
       "      <td>-0.672750</td>\n",
       "      <td>-1.776187</td>\n",
       "      <td>20.456802</td>\n",
       "      <td>-10.645520</td>\n",
       "      <td>5.453415</td>\n",
       "      <td>-182.279376</td>\n",
       "    </tr>\n",
       "    <tr>\n",
       "      <th>2</th>\n",
       "      <td>4.554193</td>\n",
       "      <td>-1.496179</td>\n",
       "      <td>22.078333</td>\n",
       "      <td>-11.014485</td>\n",
       "      <td>5.476684</td>\n",
       "      <td>-192.604949</td>\n",
       "    </tr>\n",
       "    <tr>\n",
       "      <th>3</th>\n",
       "      <td>-1.597440</td>\n",
       "      <td>-3.792574</td>\n",
       "      <td>22.028051</td>\n",
       "      <td>-10.250194</td>\n",
       "      <td>5.583333</td>\n",
       "      <td>-194.414500</td>\n",
       "    </tr>\n",
       "    <tr>\n",
       "      <th>4</th>\n",
       "      <td>0.057342</td>\n",
       "      <td>-2.247027</td>\n",
       "      <td>22.367812</td>\n",
       "      <td>-10.891777</td>\n",
       "      <td>6.313657</td>\n",
       "      <td>-196.512838</td>\n",
       "    </tr>\n",
       "  </tbody>\n",
       "</table>\n",
       "</div>"
      ],
      "text/plain": [
       "         x1        x2         x3         x4        x5           y\n",
       "0 -4.221195 -2.312597  20.479732 -10.278535  5.224368 -183.078704\n",
       "1 -0.672750 -1.776187  20.456802 -10.645520  5.453415 -182.279376\n",
       "2  4.554193 -1.496179  22.078333 -11.014485  5.476684 -192.604949\n",
       "3 -1.597440 -3.792574  22.028051 -10.250194  5.583333 -194.414500\n",
       "4  0.057342 -2.247027  22.367812 -10.891777  6.313657 -196.512838"
      ]
     },
     "execution_count": 34,
     "metadata": {},
     "output_type": "execute_result"
    }
   ],
   "source": [
    "# dataframe creation with the help of pandas\n",
    "df = pd.read_csv(\"task1.csv\")\n",
    "df.head()"
   ]
  },
  {
   "cell_type": "code",
   "execution_count": 35,
   "id": "40ebf4a0",
   "metadata": {},
   "outputs": [
    {
     "name": "stdout",
     "output_type": "stream",
     "text": [
      "<class 'pandas.core.frame.DataFrame'>\n",
      "RangeIndex: 250 entries, 0 to 249\n",
      "Data columns (total 6 columns):\n",
      " #   Column  Non-Null Count  Dtype  \n",
      "---  ------  --------------  -----  \n",
      " 0   x1      250 non-null    float64\n",
      " 1   x2      250 non-null    float64\n",
      " 2   x3      250 non-null    float64\n",
      " 3   x4      250 non-null    float64\n",
      " 4   x5      250 non-null    float64\n",
      " 5   y       250 non-null    float64\n",
      "dtypes: float64(6)\n",
      "memory usage: 11.8 KB\n"
     ]
    }
   ],
   "source": [
    "df.info() # informations of the attributes of the dataframe"
   ]
  },
  {
   "cell_type": "code",
   "execution_count": 36,
   "id": "b5741ea6",
   "metadata": {},
   "outputs": [
    {
     "data": {
      "text/html": [
       "<div>\n",
       "<style scoped>\n",
       "    .dataframe tbody tr th:only-of-type {\n",
       "        vertical-align: middle;\n",
       "    }\n",
       "\n",
       "    .dataframe tbody tr th {\n",
       "        vertical-align: top;\n",
       "    }\n",
       "\n",
       "    .dataframe thead th {\n",
       "        text-align: right;\n",
       "    }\n",
       "</style>\n",
       "<table border=\"1\" class=\"dataframe\">\n",
       "  <thead>\n",
       "    <tr style=\"text-align: right;\">\n",
       "      <th></th>\n",
       "      <th>x1</th>\n",
       "      <th>x2</th>\n",
       "      <th>x3</th>\n",
       "      <th>x4</th>\n",
       "      <th>x5</th>\n",
       "      <th>y</th>\n",
       "    </tr>\n",
       "  </thead>\n",
       "  <tbody>\n",
       "    <tr>\n",
       "      <th>x1</th>\n",
       "      <td>1.000000</td>\n",
       "      <td>0.096341</td>\n",
       "      <td>0.012348</td>\n",
       "      <td>-0.062350</td>\n",
       "      <td>0.083292</td>\n",
       "      <td>0.103080</td>\n",
       "    </tr>\n",
       "    <tr>\n",
       "      <th>x2</th>\n",
       "      <td>0.096341</td>\n",
       "      <td>1.000000</td>\n",
       "      <td>0.036391</td>\n",
       "      <td>-0.022901</td>\n",
       "      <td>0.107425</td>\n",
       "      <td>0.133388</td>\n",
       "    </tr>\n",
       "    <tr>\n",
       "      <th>x3</th>\n",
       "      <td>0.012348</td>\n",
       "      <td>0.036391</td>\n",
       "      <td>1.000000</td>\n",
       "      <td>-0.675921</td>\n",
       "      <td>-0.012837</td>\n",
       "      <td>-0.949708</td>\n",
       "    </tr>\n",
       "    <tr>\n",
       "      <th>x4</th>\n",
       "      <td>-0.062350</td>\n",
       "      <td>-0.022901</td>\n",
       "      <td>-0.675921</td>\n",
       "      <td>1.000000</td>\n",
       "      <td>0.034274</td>\n",
       "      <td>0.810280</td>\n",
       "    </tr>\n",
       "    <tr>\n",
       "      <th>x5</th>\n",
       "      <td>0.083292</td>\n",
       "      <td>0.107425</td>\n",
       "      <td>-0.012837</td>\n",
       "      <td>0.034274</td>\n",
       "      <td>1.000000</td>\n",
       "      <td>0.036854</td>\n",
       "    </tr>\n",
       "    <tr>\n",
       "      <th>y</th>\n",
       "      <td>0.103080</td>\n",
       "      <td>0.133388</td>\n",
       "      <td>-0.949708</td>\n",
       "      <td>0.810280</td>\n",
       "      <td>0.036854</td>\n",
       "      <td>1.000000</td>\n",
       "    </tr>\n",
       "  </tbody>\n",
       "</table>\n",
       "</div>"
      ],
      "text/plain": [
       "          x1        x2        x3        x4        x5         y\n",
       "x1  1.000000  0.096341  0.012348 -0.062350  0.083292  0.103080\n",
       "x2  0.096341  1.000000  0.036391 -0.022901  0.107425  0.133388\n",
       "x3  0.012348  0.036391  1.000000 -0.675921 -0.012837 -0.949708\n",
       "x4 -0.062350 -0.022901 -0.675921  1.000000  0.034274  0.810280\n",
       "x5  0.083292  0.107425 -0.012837  0.034274  1.000000  0.036854\n",
       "y   0.103080  0.133388 -0.949708  0.810280  0.036854  1.000000"
      ]
     },
     "execution_count": 36,
     "metadata": {},
     "output_type": "execute_result"
    }
   ],
   "source": [
    "df.corr() # analysis of the correlation values"
   ]
  },
  {
   "cell_type": "code",
   "execution_count": 37,
   "id": "a5e2809c",
   "metadata": {},
   "outputs": [
    {
     "data": {
      "text/plain": [
       "<AxesSubplot: >"
      ]
     },
     "execution_count": 37,
     "metadata": {},
     "output_type": "execute_result"
    },
    {
     "data": {
      "image/png": "[encoded data removed]",
      "text/plain": [
       "<Figure size 640x480 with 2 Axes>"
      ]
     },
     "metadata": {},
     "output_type": "display_data"
    }
   ],
   "source": [
    "corr = df.corr()\n",
    "sns.heatmap(corr, \n",
    "        xticklabels=corr.columns,\n",
    "        yticklabels=corr.columns) # heat map using correlation method"
   ]
  },
  {
   "cell_type": "code",
   "execution_count": 38,
   "id": "db4c2668",
   "metadata": {},
   "outputs": [],
   "source": [
    "X = df.drop(\"y\", axis=1) # X variable with first five columns\n",
    "Y = df[\"y\"] # Y variable with respect to y column"
   ]
  },
  {
   "cell_type": "code",
   "execution_count": 39,
   "id": "b3967d42",
   "metadata": {},
   "outputs": [],
   "source": [
    "# test and train data spliting\n",
    "x_train, x_test, y_train, y_test = train_test_split(X, Y, test_size = 0.20, random_state= 42)"
   ]
  },
  {
   "cell_type": "code",
   "execution_count": 40,
   "id": "efdb5a4f",
   "metadata": {},
   "outputs": [],
   "source": [
    "# regression model creation\n",
    "reg_mod = LinearRegression()\n",
    "model_val = reg_mod.fit(x_train,y_train)"
   ]
  },
  {
   "cell_type": "code",
   "execution_count": 12,
   "id": "7b957a1e",
   "metadata": {},
   "outputs": [
    {
     "data": {
      "text/plain": [
       "0.48284275049010356"
      ]
     },
     "execution_count": 12,
     "metadata": {},
     "output_type": "execute_result"
    }
   ],
   "source": [
    "#RMSE value calcuation for train data\n",
    "rmse_train = np.sqrt(mean_squared_error(y_train, model_val.predict(x_train)))\n",
    "rmse_train"
   ]
  },
  {
   "cell_type": "code",
   "execution_count": 13,
   "id": "510fdb92",
   "metadata": {},
   "outputs": [
    {
     "data": {
      "text/plain": [
       "0.6440979751706583"
      ]
     },
     "execution_count": 13,
     "metadata": {},
     "output_type": "execute_result"
    }
   ],
   "source": [
    "# RMSE value calculation for test data\n",
    "rmse_test = np.sqrt(mean_squared_error(y_test, model_val.predict(x_test)))\n",
    "rmse_test"
   ]
  },
  {
   "cell_type": "code",
   "execution_count": 17,
   "id": "fa268aca",
   "metadata": {},
   "outputs": [
    {
     "data": {
      "text/plain": [
       "0.9961488577009926"
      ]
     },
     "execution_count": 17,
     "metadata": {},
     "output_type": "execute_result"
    }
   ],
   "source": [
    "# score of the model\n",
    "model_val.score(x_train, y_train) "
   ]
  },
  {
   "cell_type": "code",
   "execution_count": 22,
   "id": "9b1e63cd",
   "metadata": {},
   "outputs": [],
   "source": [
    "# score of the model\n",
    "# model_val.score(x_test, y_test) "
   ]
  },
  {
   "cell_type": "code",
   "execution_count": 23,
   "id": "03aa8996",
   "metadata": {},
   "outputs": [
    {
     "data": {
      "text/plain": [
       "0.9954619175394738"
      ]
     },
     "execution_count": 23,
     "metadata": {},
     "output_type": "execute_result"
    }
   ],
   "source": [
    "# cross validfation score of the model\n",
    "cross_val_score(model_val, x_train,  y_train, cv= 10, scoring=\"r2\").mean()"
   ]
  },
  {
   "cell_type": "code",
   "execution_count": 24,
   "id": "8f33af4a",
   "metadata": {},
   "outputs": [],
   "source": [
    "# cross validfation score of the model\n",
    "# cross_val_score(model_val, x_test,  y_test, cv= 10, scoring=\"r2\").mean()"
   ]
  },
  {
   "cell_type": "code",
   "execution_count": 25,
   "id": "1d618ecc",
   "metadata": {},
   "outputs": [
    {
     "data": {
      "text/plain": [
       "0.9944074057161745"
      ]
     },
     "execution_count": 25,
     "metadata": {},
     "output_type": "execute_result"
    }
   ],
   "source": [
    "y_predicted = reg_mod.predict(x_test) # prediction of the model\n",
    "r2_score(y_test, y_predicted) # R2 score calcuation with respect to test, and predicted values of the model"
   ]
  },
  {
   "cell_type": "markdown",
   "id": "5758694c",
   "metadata": {},
   "source": [
    "## Point 2 "
   ]
  },
  {
   "cell_type": "code",
   "execution_count": 26,
   "id": "574d5641",
   "metadata": {},
   "outputs": [
    {
     "data": {
      "text/html": [
       "<div>\n",
       "<style scoped>\n",
       "    .dataframe tbody tr th:only-of-type {\n",
       "        vertical-align: middle;\n",
       "    }\n",
       "\n",
       "    .dataframe tbody tr th {\n",
       "        vertical-align: top;\n",
       "    }\n",
       "\n",
       "    .dataframe thead th {\n",
       "        text-align: right;\n",
       "    }\n",
       "</style>\n",
       "<table border=\"1\" class=\"dataframe\">\n",
       "  <thead>\n",
       "    <tr style=\"text-align: right;\">\n",
       "      <th></th>\n",
       "      <th>x1</th>\n",
       "      <th>y</th>\n",
       "    </tr>\n",
       "  </thead>\n",
       "  <tbody>\n",
       "    <tr>\n",
       "      <th>0</th>\n",
       "      <td>-4.221195</td>\n",
       "      <td>-183.078704</td>\n",
       "    </tr>\n",
       "    <tr>\n",
       "      <th>1</th>\n",
       "      <td>-0.672750</td>\n",
       "      <td>-182.279376</td>\n",
       "    </tr>\n",
       "    <tr>\n",
       "      <th>2</th>\n",
       "      <td>4.554193</td>\n",
       "      <td>-192.604949</td>\n",
       "    </tr>\n",
       "    <tr>\n",
       "      <th>3</th>\n",
       "      <td>-1.597440</td>\n",
       "      <td>-194.414500</td>\n",
       "    </tr>\n",
       "    <tr>\n",
       "      <th>4</th>\n",
       "      <td>0.057342</td>\n",
       "      <td>-196.512838</td>\n",
       "    </tr>\n",
       "  </tbody>\n",
       "</table>\n",
       "</div>"
      ],
      "text/plain": [
       "         x1           y\n",
       "0 -4.221195 -183.078704\n",
       "1 -0.672750 -182.279376\n",
       "2  4.554193 -192.604949\n",
       "3 -1.597440 -194.414500\n",
       "4  0.057342 -196.512838"
      ]
     },
     "execution_count": 26,
     "metadata": {},
     "output_type": "execute_result"
    }
   ],
   "source": [
    "df_new = df.drop([\"x2\",\"x3\",\"x4\",\"x5\"], axis=1) # creation of new dataframe using two attributes, x1, and y\n",
    "df_new.head()"
   ]
  },
  {
   "cell_type": "code",
   "execution_count": 27,
   "id": "fcb79a62",
   "metadata": {},
   "outputs": [],
   "source": [
    "X1 = df_new.drop(\"y\", axis=1) # define X1 by using x1 column value\n",
    "Y1 = df_new[\"y\"] # define Y1 by using y column value"
   ]
  },
  {
   "cell_type": "code",
   "execution_count": 28,
   "id": "5a8a377a",
   "metadata": {},
   "outputs": [
    {
     "data": {
      "image/png": "[encoded data removed]",
      "text/plain": [
       "<Figure size 640x480 with 1 Axes>"
      ]
     },
     "metadata": {},
     "output_type": "display_data"
    }
   ],
   "source": [
    "plt.scatter(X1, Y1, alpha=0.5)\n",
    "plt.title('Scatter plot')\n",
    "plt.xlabel('x1')\n",
    "plt.ylabel('y')\n",
    "plt.show() # scatter plot between X1, and Y1"
   ]
  },
  {
   "cell_type": "code",
   "execution_count": 29,
   "id": "5ceed855",
   "metadata": {},
   "outputs": [
    {
     "data": {
      "text/html": [
       "<div>\n",
       "<style scoped>\n",
       "    .dataframe tbody tr th:only-of-type {\n",
       "        vertical-align: middle;\n",
       "    }\n",
       "\n",
       "    .dataframe tbody tr th {\n",
       "        vertical-align: top;\n",
       "    }\n",
       "\n",
       "    .dataframe thead th {\n",
       "        text-align: right;\n",
       "    }\n",
       "</style>\n",
       "<table border=\"1\" class=\"dataframe\">\n",
       "  <thead>\n",
       "    <tr style=\"text-align: right;\">\n",
       "      <th></th>\n",
       "      <th>x5</th>\n",
       "      <th>y</th>\n",
       "    </tr>\n",
       "  </thead>\n",
       "  <tbody>\n",
       "    <tr>\n",
       "      <th>0</th>\n",
       "      <td>5.224368</td>\n",
       "      <td>-183.078704</td>\n",
       "    </tr>\n",
       "    <tr>\n",
       "      <th>1</th>\n",
       "      <td>5.453415</td>\n",
       "      <td>-182.279376</td>\n",
       "    </tr>\n",
       "    <tr>\n",
       "      <th>2</th>\n",
       "      <td>5.476684</td>\n",
       "      <td>-192.604949</td>\n",
       "    </tr>\n",
       "    <tr>\n",
       "      <th>3</th>\n",
       "      <td>5.583333</td>\n",
       "      <td>-194.414500</td>\n",
       "    </tr>\n",
       "    <tr>\n",
       "      <th>4</th>\n",
       "      <td>6.313657</td>\n",
       "      <td>-196.512838</td>\n",
       "    </tr>\n",
       "  </tbody>\n",
       "</table>\n",
       "</div>"
      ],
      "text/plain": [
       "         x5           y\n",
       "0  5.224368 -183.078704\n",
       "1  5.453415 -182.279376\n",
       "2  5.476684 -192.604949\n",
       "3  5.583333 -194.414500\n",
       "4  6.313657 -196.512838"
      ]
     },
     "execution_count": 29,
     "metadata": {},
     "output_type": "execute_result"
    }
   ],
   "source": [
    "df_new1 = df.drop([\"x1\",\"x2\",\"x3\",\"x4\"], axis=1) # creation of new dataframe using two attributes, x5, and y\n",
    "df_new1.head()"
   ]
  },
  {
   "cell_type": "code",
   "execution_count": 30,
   "id": "9b9f6747",
   "metadata": {},
   "outputs": [],
   "source": [
    "X2 = df_new1.drop(\"y\", axis=1) # define X2 by using x5 column value\n",
    "Y2 = df_new1[\"y\"] # define Y2 by using y column value"
   ]
  },
  {
   "cell_type": "code",
   "execution_count": 31,
   "id": "667981bf",
   "metadata": {},
   "outputs": [
    {
     "data": {
      "image/png": "[encoded data removed]",
      "text/plain": [
       "<Figure size 640x480 with 1 Axes>"
      ]
     },
     "metadata": {},
     "output_type": "display_data"
    }
   ],
   "source": [
    "plt.scatter(X2, Y2, alpha=0.5)\n",
    "plt.title('Scatter plot')\n",
    "plt.xlabel('x5')\n",
    "plt.ylabel('y')\n",
    "plt.show() # scatter plot between X1, and Y1"
   ]
  },
  {
   "cell_type": "code",
   "execution_count": null,
   "id": "0ca2d1b1",
   "metadata": {},
   "outputs": [],
   "source": []
  }
 ],
 "metadata": {
  "kernelspec": {
   "display_name": "Python 3 (ipykernel)",
   "language": "python",
   "name": "python3"
  },
  "language_info": {
   "codemirror_mode": {
    "name": "ipython",
    "version": 3
   },
   "file_extension": ".py",
   "mimetype": "text/x-python",
   "name": "python",
   "nbconvert_exporter": "python",
   "pygments_lexer": "ipython3",
   "version": "3.10.7"
  }
 },
 "nbformat": 4,
 "nbformat_minor": 5
}
